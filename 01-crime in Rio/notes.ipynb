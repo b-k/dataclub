{
 "cells": [
  {
   "cell_type": "markdown",
   "metadata": {},
   "source": [
    "Get the data. Google blocks auto-download, so it is saved on github."
   ]
  },
  {
   "cell_type": "code",
   "execution_count": 1,
   "metadata": {},
   "outputs": [],
   "source": [
    "from urllib.request import urlopen\n",
    "import pandas as pd\n",
    "\n",
    "Data_URL = 'https://raw.githubusercontent.com/b-k/large-files/master/Pedido_195_2020.csv'\n",
    "\n",
    "def get_data():    \n",
    "    \"\"\"Download a copy of the survey if we don't already have it. Return a data frame with the observations.\"\"\"\n",
    "    try:\n",
    "        return pd.read_csv(open(\"survey.csv\", 'rb'), sep=';')\n",
    "    except FileNotFoundError:\n",
    "        in_csv = urlopen(Data_URL).read().decode('ISO-8859-1')\n",
    "        f = open(\"survey.csv\", 'w')                      \n",
    "        for data in in_csv:                              \n",
    "            f.write(data) #Seems like a bug that commas are still treated as separators?\n",
    "#            f.write(data.replace(',','-')) #Seems like a bug that commas are still treated as separators?\n",
    "        \n",
    "        return pd.read_csv(open(\"survey.csv\", 'rb'), delimiter=';')"
   ]
  },
  {
   "cell_type": "code",
   "execution_count": 2,
   "metadata": {
    "scrolled": false
   },
   "outputs": [],
   "source": [
    "d=get_data()"
   ]
  },
  {
   "cell_type": "markdown",
   "metadata": {},
   "source": [
    "Define some convenience functions:"
   ]
  },
  {
   "cell_type": "code",
   "execution_count": 3,
   "metadata": {},
   "outputs": [],
   "source": [
    "# Use Python's dictionary structure for an actual dictionary.\n",
    "# I didn't translate things that seemed like easy cognates like \"Interior de taxi\" or \"Estabelecimento comercial\"\n",
    "p2e_d = {\"Floresta\": \"Forest\",\n",
    "      'Sem informação': \"No information\",\n",
    "        'Estação de barcas': \"Ferry\",\n",
    "         'Estação ferroviária': 'Train station',\n",
    "         'Estação rodoviária': 'Bus station (formal)',\n",
    "         'Interior de coletivo': 'Bus station (informal)',\n",
    "         'Estab. público estadual': \"Local government building\",\n",
    "         'Estabelecimento de ensino': 'school',\n",
    "         'Morro': 'Hill(?)',\n",
    "         'Praia': 'Beach',\n",
    "         'Clube/instituição desportiva' : 'Sports club',\n",
    "         'Mar': 'Sea',\n",
    "         'Rio': 'River',\n",
    "         'Lagoa': 'Lagoon',\n",
    "         'Campo': 'Country',\n",
    "         'Boate': 'Night club',\n",
    "         'Caixa Eletrônico': 'ATM',\n",
    "         'Conjunto habitacional': 'Apartment',\n",
    "         'Semáforo': 'Stoplight'\n",
    "        }\n",
    "\n",
    "def p2e(p_in):\n",
    "    try:\n",
    "        return p2e_d[p_in]\n",
    "    except:\n",
    "        return p_in"
   ]
  },
  {
   "cell_type": "code",
   "execution_count": 4,
   "metadata": {},
   "outputs": [],
   "source": [
    "def get_by_sex(xtab, location, sex):\n",
    "    try:\n",
    "        return locale_sex.loc[(location, sex)]\n",
    "    except:\n",
    "        return 0\n",
    "    \n",
    "# Python isn't IEEE 754 compliant, so we have to write our own division function.\n",
    "def ratio_754(a,b):\n",
    "    return a/b if b > 0 else float(\"nan\") if a==0 else float(\"inf\") if a>0 else -float(\"inf\")"
   ]
  },
  {
   "cell_type": "markdown",
   "metadata": {},
   "source": [
    "Get some aggregations via the SQL analogue groupby, which listwise deletes NaN.\n",
    "\n",
    "Then put some useful things into a single tuple:  \n",
    "[locale, percent female, count (with sex), average age]"
   ]
  },
  {
   "cell_type": "code",
   "execution_count": 5,
   "metadata": {},
   "outputs": [],
   "source": [
    "locale_sex = d.groupby([\"local\", \"sexo\"])[\"controle\"].count()\n",
    "locale_age =d.groupby([\"local\"])[\"idade\"].mean()\n",
    "locales = set([t[0] for t in locale_sex.index])"
   ]
  },
  {
   "cell_type": "code",
   "execution_count": 6,
   "metadata": {
    "scrolled": true
   },
   "outputs": [],
   "source": [
    "m_and_f = lambda L: (get_by_sex(locale_sex, L, 'feminino')+get_by_sex(locale_sex, L, 'masculino'))\n",
    "pct_f = [(L, ratio_754(get_by_sex(locale_sex, L, 'feminino'), m_and_f(L)), m_and_f(L), locale_age.loc[L]) for L in locales]"
   ]
  },
  {
   "cell_type": "markdown",
   "metadata": {},
   "source": [
    "Output: sort locations by percent female, and by average age."
   ]
  },
  {
   "cell_type": "code",
   "execution_count": 7,
   "metadata": {},
   "outputs": [
    {
     "name": "stdout",
     "output_type": "stream",
     "text": [
      "100.0%: Estab. público federal (1)\n",
      "53.8%: Estabelecimento prisional (987)\n",
      "50.0%: Ferry (4)\n",
      "43.2%: Local government building (118)\n",
      "33.3%: Casa de show (6)\n",
      "30.2%: Bus station (formal) (116)\n",
      "28.6%: Interior de taxi (35)\n",
      "25.1%: Bus station (informal) (573)\n",
      "25.0%: Aeroporto (8)\n",
      "25.0%: Instituição religiosa (12)\n",
      "20.0%: Motel (20)\n",
      "19.4%: Interior de transporte alternativo (31)\n",
      "19.2%: Estab. público municipal (26)\n",
      "16.8%: Bar/restaurante (345)\n",
      "16.7%: school (42)\n",
      "16.7%: Supermercado (6)\n",
      "15.8%: Stoplight (19)\n",
      "13.6%: No information (140)\n",
      "13.1%: Estabelecimento comercial (464)\n",
      "12.9%: Residência (17013)\n",
      "12.5%: Estádio (8)\n",
      "11.9%: Posto de gasolina (42)\n",
      "11.1%: Interior de composição férrea (9)\n",
      "10.7%: Hospital, clínica e similares (28)\n",
      "10.7%: Vila (84)\n",
      "9.2%: Outros (4538)\n",
      "8.5%: Estabelecimento hoteleiro (47)\n",
      "8.3%: Ignorado (4043)\n",
      "8.2%: Train station (85)\n",
      "8.0%: Teatro (25)\n",
      "7.7%: Parque (26)\n",
      "7.7%: Delegacia policial (26)\n",
      "7.5%: Apartment (146)\n",
      "6.7%: Condomínio (254)\n",
      "6.5%: Beach (340)\n",
      "6.2%: Night club (16)\n",
      "5.2%: Via pública (55584)\n",
      "3.3%: Hill(?) (852)\n",
      "2.4%: Sítio (85)\n",
      "1.7%: Favela (6911)\n",
      "0.0%: Sports club (9)\n",
      "0.0%: Fazenda (45)\n",
      "0.0%: Linha férrea (56)\n",
      "0.0%: Escritório (7)\n",
      "0.0%: Estabelecimento militar (2)\n",
      "0.0%: Sea (9)\n",
      "0.0%: Shopping center (10)\n",
      "0.0%: Forest (21)\n",
      "0.0%: Estabelecimento financeiro (3)\n",
      "0.0%: Garagem (2)\n",
      "0.0%: Centro de convenções (1)\n",
      "0.0%: Chácara (1)\n",
      "nan%: Estabelecimento industrial (0)\n",
      "0.0%: Lagoon (4)\n",
      "0.0%: ATM (2)\n",
      "0.0%: Interior de embarcação (5)\n",
      "0.0%: Interior de aeronave (1)\n",
      "0.0%: Estacionamento (14)\n",
      "0.0%: River (9)\n",
      "0.0%: Estação metroviária (1)\n",
      "0.0%: Country (56)\n"
     ]
    }
   ],
   "source": [
    "pct_f.sort(key=lambda x:-x[1]+0.0)\n",
    "for i in pct_f:\n",
    "    print (f'{i[1]:.1%}: {p2e(i[0])} ({i[2]})')"
   ]
  },
  {
   "cell_type": "code",
   "execution_count": 8,
   "metadata": {},
   "outputs": [
    {
     "name": "stdout",
     "output_type": "stream",
     "text": [
      "58: Estação metroviária (1)\n",
      "46: Chácara (1)\n",
      "35: Estabelecimento militar (2)\n",
      "34: Estabelecimento financeiro (3)\n",
      "32: Casa de show (6)\n",
      "30: Sítio (85)\n",
      "29: Sports club (9)\n",
      "29: Estabelecimento prisional (987)\n",
      "29: Estabelecimento comercial (464)\n",
      "29: Bar/restaurante (345)\n",
      "28: Hospital, clínica e similares (28)\n",
      "28: Supermercado (6)\n",
      "27: Delegacia policial (26)\n",
      "27: Local government building (118)\n",
      "26: Shopping center (10)\n",
      "26: Escritório (7)\n",
      "26: Estabelecimento hoteleiro (47)\n",
      "26: No information (140)\n",
      "25: Garagem (2)\n",
      "25: Estacionamento (14)\n",
      "25: Fazenda (45)\n",
      "24: Residência (17013)\n",
      "24: Instituição religiosa (12)\n",
      "24: Posto de gasolina (42)\n",
      "24: Vila (84)\n",
      "23: Bus station (informal) (573)\n",
      "23: Estab. público municipal (26)\n",
      "23: Bus station (formal) (116)\n",
      "23: Motel (20)\n",
      "23: Interior de embarcação (5)\n",
      "23: Ignorado (4043)\n",
      "23: Linha férrea (56)\n",
      "23: River (9)\n",
      "22: Interior de taxi (35)\n",
      "22: Condomínio (254)\n",
      "22: Aeroporto (8)\n",
      "22: Outros (4538)\n",
      "22: ATM (2)\n",
      "22: Stoplight (19)\n",
      "22: Via pública (55584)\n",
      "22: Sea (9)\n",
      "22: Interior de transporte alternativo (31)\n",
      "22: Night club (16)\n",
      "22: Beach (340)\n",
      "22: Ferry (4)\n",
      "22: Estádio (8)\n",
      "21: Apartment (146)\n",
      "21: Parque (26)\n",
      "21: Favela (6911)\n",
      "21: Hill(?) (852)\n",
      "21: Lagoon (4)\n",
      "21: Estab. público federal (1)\n",
      "21: Teatro (25)\n",
      "21: Centro de convenções (1)\n",
      "20: Country (56)\n",
      "20: Train station (85)\n",
      "20: Forest (21)\n",
      "20: Interior de composição férrea (9)\n",
      "18: school (42)\n",
      "0: Estabelecimento industrial (0)\n",
      "16: Interior de aeronave (1)\n"
     ]
    }
   ],
   "source": [
    "pct_f.sort(key=lambda x:-x[3]+0.0)\n",
    "for i in pct_f:\n",
    "    print (f'{int(i[3]) if i[3]==i[3] else 0}: {p2e(i[0])} ({i[2]})')"
   ]
  }
 ],
 "metadata": {
  "kernelspec": {
   "display_name": "Python 3",
   "language": "python",
   "name": "python3"
  },
  "language_info": {
   "codemirror_mode": {
    "name": "ipython",
    "version": 3
   },
   "file_extension": ".py",
   "mimetype": "text/x-python",
   "name": "python",
   "nbconvert_exporter": "python",
   "pygments_lexer": "ipython3",
   "version": "3.6.9"
  }
 },
 "nbformat": 4,
 "nbformat_minor": 2
}
